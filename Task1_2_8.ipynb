{
 "cells": [
  {
   "cell_type": "code",
   "execution_count": 1,
   "id": "54aec06c",
   "metadata": {},
   "outputs": [],
   "source": [
    "import re\n",
    "from Bio import SeqIO\n",
    "# from StringIO import StringIO\n",
    "from Bio.SeqRecord import SeqRecord\n",
    "from Bio.Seq import Seq\n",
    "import os\n",
    "import numpy as np\n",
    "import itertools\n",
    "import pandas as pd"
   ]
  },
  {
   "cell_type": "markdown",
   "id": "80a07e86",
   "metadata": {},
   "source": [
    "## Question No.1"
   ]
  },
  {
   "cell_type": "code",
   "execution_count": 2,
   "id": "50c332a3",
   "metadata": {},
   "outputs": [
    {
     "data": {
      "text/plain": [
       "[2, 12, 15, 19]"
      ]
     },
     "execution_count": 2,
     "metadata": {},
     "output_type": "execute_result"
    }
   ],
   "source": [
    "def get_ind(indfile):\n",
    "    with open(indfile) as topo_file:\n",
    "        lists = []\n",
    "        for line in topo_file:\n",
    "            lists += list(np.array(list(line.rstrip('\\n').split(',')), dtype=np.int32))\n",
    "        return(lists)\n",
    "get_ind('introns.txt')"
   ]
  },
  {
   "cell_type": "code",
   "execution_count": 3,
   "id": "957ac9d9",
   "metadata": {},
   "outputs": [
    {
     "name": "stdout",
     "output_type": "stream",
     "text": [
      "GAAT\n"
     ]
    }
   ],
   "source": [
    "def ExcludeIntrons(gene, introns):\n",
    "    inds = get_ind(introns)\n",
    "    with open(gene) as gene_file:\n",
    "        gene_seq = (gene_file.read())\n",
    "        new_gene_seq = gene_seq\n",
    "#         print('The Original gene is:', gene_seq)\n",
    "        for i in range(int(len(inds)/2)):\n",
    "            intron = str(gene_seq[inds[2*i]:inds[2*i+1]+1])\n",
    "#             print('The intron of start: {} and stop {} is {}:'.format(inds[2*i],inds[2*i+1],intron))\n",
    "            new_gene_seq = new_gene_seq.replace(intron, '')\n",
    "#         print('The gene after introns removal is:', new_gene_seq)\n",
    "    return new_gene_seq\n",
    "\n",
    "new_gene = ExcludeIntrons('genomic_dna.txt', 'introns.txt')\n",
    "print(new_gene)"
   ]
  },
  {
   "cell_type": "markdown",
   "id": "c8fcee72",
   "metadata": {},
   "source": [
    "## Question No.2"
   ]
  },
  {
   "cell_type": "code",
   "execution_count": 4,
   "id": "f5bedb09",
   "metadata": {},
   "outputs": [
    {
     "name": "stdout",
     "output_type": "stream",
     "text": [
      "22 33\n"
     ]
    }
   ],
   "source": [
    "def getFragmentSize(seq):\n",
    "    cut = 'GAATTC'\n",
    "    index = seq.find(cut)\n",
    "    fragment1 = seq[:index+1]\n",
    "    fragment2 = seq[index+1:]\n",
    "#     print(fragment1, len(fragment1))\n",
    "#     print(fragment2, len(fragment2))\n",
    "#     print(len(seq), len(fragment1) + len(fragment2))\n",
    "    return len(fragment1) , len(fragment2)\n",
    "seq = 'ACTGATCGATTACGTATAGTAGAATTCTATCATACATATATATCGATGCGTTCAT'\n",
    "frag1, frag2 = getFragmentSize(seq)\n",
    "print(frag1, frag2)    "
   ]
  },
  {
   "cell_type": "markdown",
   "id": "798e5f87",
   "metadata": {},
   "source": [
    "## Question No.3"
   ]
  },
  {
   "cell_type": "code",
   "execution_count": 5,
   "id": "675d3e5b",
   "metadata": {},
   "outputs": [
    {
     "name": "stdout",
     "output_type": "stream",
     "text": [
      "5\n",
      "              Species_name                                           Sequence  \\\n",
      "0  Drosophila melanogaster  actgtgacgtgtactgtacgactatcgatacgtagtactgatcgct...   \n",
      "1      Drosophila simulans  atcgatcatgtcgatcgatgatgcatccgactatcgtcgatcgtga...   \n",
      "2        Drosophila yakuba         cgcgcgctcgcgcatacggcctaatgcgcgcgctagcgatgc   \n",
      "3     Drosophila ananassae  ttacgatcgatcgatcgatcgatcgtcgatcgtcgatgctacatcg...   \n",
      "4     Drosophila ananassae  gcatcgatcgatcgcggcgcatcgatcgcgatcatcgatcatacgc...   \n",
      "\n",
      "  Gene_name  Expression_level  \n",
      "0    jdg766               185  \n",
      "1    kdy533               485  \n",
      "2    hdt739                85  \n",
      "3    hdu045               356  \n",
      "4    teg436               222  \n"
     ]
    }
   ],
   "source": [
    "data = pd.read_csv('data.csv')\n",
    "# adding column name to the respective columns\n",
    "data.columns =['Species_name', 'Sequence', 'Gene_name', 'Expression_level']\n",
    "print(len(data))\n",
    "print(data.head())"
   ]
  },
  {
   "cell_type": "markdown",
   "id": "3528054b",
   "metadata": {},
   "source": [
    "### 1. A function to print the genes names of a specific Species\n",
    "- Takes the Species name as an input argument\n",
    "- Prints the names of genes belonging to this species \n",
    "- Retuens a list of these genes names"
   ]
  },
  {
   "cell_type": "code",
   "execution_count": 6,
   "id": "74b5a46a",
   "metadata": {},
   "outputs": [],
   "source": [
    "def specFinder(spec):\n",
    "    genes_names = []\n",
    "    for i in range(len(data)):\n",
    "        if data.loc[i,'Species_name'] == spec:\n",
    "            print(data.loc[i,'Gene_name'])\n",
    "            genes_names.append(data.loc[i,'Gene_name'])\n",
    "    return genes_names"
   ]
  },
  {
   "cell_type": "code",
   "execution_count": 7,
   "id": "90c4d4d3",
   "metadata": {},
   "outputs": [
    {
     "name": "stdout",
     "output_type": "stream",
     "text": [
      "jdg766\n"
     ]
    }
   ],
   "source": [
    "spec = 'Drosophila melanogaster'\n",
    "names = specFinder(spec)"
   ]
  },
  {
   "cell_type": "code",
   "execution_count": 8,
   "id": "42c97ebc",
   "metadata": {},
   "outputs": [
    {
     "name": "stdout",
     "output_type": "stream",
     "text": [
      "kdy533\n"
     ]
    }
   ],
   "source": [
    "spec = 'Drosophila simulans'\n",
    "names = specFinder(spec)"
   ]
  },
  {
   "cell_type": "markdown",
   "id": "ddcd8342",
   "metadata": {},
   "source": [
    "### 2. A function to print the genes names of a specific length (90:110)\n",
    "- Takes x and y lenghts boundries as input argument\n",
    "- Prints the names of genes of sequence lenght within these boundries \n",
    "- Retuens a list of these genes names"
   ]
  },
  {
   "cell_type": "code",
   "execution_count": 9,
   "id": "98fe9c24",
   "metadata": {},
   "outputs": [
    {
     "name": "stdout",
     "output_type": "stream",
     "text": [
      "kdy533\n",
      "teg436\n"
     ]
    }
   ],
   "source": [
    "def lenFinder(x, y):\n",
    "    genes_names = []\n",
    "    for i in range(len(data)):\n",
    "        seq = data.loc[i,'Sequence']\n",
    "        if (x <= (len(seq)) <= y) :\n",
    "            print(data.loc[i,'Gene_name'])\n",
    "            genes_names.append(data.loc[i,'Gene_name'])\n",
    "    if len(genes_names) == 0 : print('No genes within these boundris')\n",
    "    return genes_names\n",
    "names = lenFinder(90,110)"
   ]
  },
  {
   "cell_type": "markdown",
   "id": "37ed6978",
   "metadata": {},
   "source": [
    "### 3.  genes with AT content less than 0.5 and expression level greater than 200"
   ]
  },
  {
   "cell_type": "code",
   "execution_count": 10,
   "id": "f9e39211",
   "metadata": {},
   "outputs": [
    {
     "name": "stdout",
     "output_type": "stream",
     "text": [
      "0.08974358974358974\n",
      "0.2222222222222222\n",
      "0.07142857142857142\n",
      "0.1794871794871795\n",
      "0.14285714285714285\n"
     ]
    }
   ],
   "source": [
    "# Content counter\n",
    "def contentCounter(content, seq):\n",
    "    seq = str(seq).lower()\n",
    "    content = str(content).lower()\n",
    "    count = seq.count(content)\n",
    "    return 2*count/len(seq)\n",
    "\n",
    "for i in range(len(data)):\n",
    "    seq = data.loc[i,'Sequence']\n",
    "    print(contentCounter('AT', data.loc[i,'Sequence']))\n"
   ]
  },
  {
   "cell_type": "code",
   "execution_count": 11,
   "id": "b1ef6e28",
   "metadata": {},
   "outputs": [
    {
     "name": "stdout",
     "output_type": "stream",
     "text": [
      "kdy533\n",
      "hdu045\n",
      "teg436\n"
     ]
    }
   ],
   "source": [
    "for i in range(len(data)):\n",
    "    seq = data.loc[i,'Sequence']\n",
    "    ex_lvl = data.loc[i,'Expression_level']\n",
    "    if (ex_lvl>200) and (contentCounter('AT', seq)<0.5): \n",
    "        print(data.loc[i,'Gene_name'])"
   ]
  },
  {
   "cell_type": "markdown",
   "id": "5c1d4e53",
   "metadata": {},
   "source": [
    "### 4.Genes whose name begins with \"k\" or \"h\" except those belonging to Drosophila melanogaster."
   ]
  },
  {
   "cell_type": "code",
   "execution_count": 12,
   "id": "22234cde",
   "metadata": {
    "scrolled": true
   },
   "outputs": [
    {
     "name": "stdout",
     "output_type": "stream",
     "text": [
      "kdy533\n",
      "hdt739\n",
      "hdu045\n"
     ]
    }
   ],
   "source": [
    "for i in range(len(data)):\n",
    "    if data.loc[i,'Species_name'] != 'Drosophila melanogaster':\n",
    "        fst_lett = str(data.loc[i,'Gene_name'])[0]\n",
    "        if (fst_lett == 'k') or (fst_lett == 'h'):\n",
    "            print(data.loc[i,'Gene_name'])"
   ]
  },
  {
   "cell_type": "markdown",
   "id": "512fb49d",
   "metadata": {},
   "source": [
    "### 5. Massage for every AT content level"
   ]
  },
  {
   "cell_type": "code",
   "execution_count": 13,
   "id": "990a72ec",
   "metadata": {},
   "outputs": [
    {
     "name": "stdout",
     "output_type": "stream",
     "text": [
      "The gene of name jdg766 has a Low AT content of 0.09\n",
      "The gene of name kdy533 has a Low AT content of 0.222\n",
      "The gene of name hdt739 has a Low AT content of 0.071\n",
      "The gene of name hdu045 has a Low AT content of 0.179\n",
      "The gene of name teg436 has a Low AT content of 0.143\n"
     ]
    }
   ],
   "source": [
    "for i in range(len(data)):\n",
    "    name = data.loc[i,'Gene_name']\n",
    "    seq = data.loc[i,'Sequence']\n",
    "    content = contentCounter('AT', seq)\n",
    "    if 0.45<=content<=0.65:\n",
    "        print('The gene of name ({}) has a medium AT content of ({})'.format(name, round(content,3)))\n",
    "    elif content>0.65:\n",
    "        print('The gene of name {} has a High AT content of {}'.format(name, round(content,3)))\n",
    "    elif 0.45>content:\n",
    "        print('The gene of name {} has a Low AT content of {}'.format(name, round(content,3)))"
   ]
  }
 ],
 "metadata": {
  "kernelspec": {
   "display_name": "Python 3 (ipykernel)",
   "language": "python",
   "name": "python3"
  },
  "language_info": {
   "codemirror_mode": {
    "name": "ipython",
    "version": 3
   },
   "file_extension": ".py",
   "mimetype": "text/x-python",
   "name": "python",
   "nbconvert_exporter": "python",
   "pygments_lexer": "ipython3",
   "version": "3.8.11"
  }
 },
 "nbformat": 4,
 "nbformat_minor": 5
}
